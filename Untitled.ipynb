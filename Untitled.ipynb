{
 "cells": [
  {
   "cell_type": "code",
   "execution_count": 84,
   "id": "f3f7e2f3",
   "metadata": {},
   "outputs": [],
   "source": [
    "import tensorflow.keras\n",
    "from PIL import Image, ImageOps\n",
    "import numpy as np\n",
    "np.set_printoptions(suppress=True)"
   ]
  },
  {
   "cell_type": "code",
   "execution_count": 100,
   "id": "e7b906d3",
   "metadata": {},
   "outputs": [
    {
     "name": "stdout",
     "output_type": "stream",
     "text": [
      "WARNING:tensorflow:No training configuration found in the save file, so the model was *not* compiled. Compile it manually.\n",
      "WARNING:tensorflow:No training configuration found in the save file, so the model was *not* compiled. Compile it manually.\n"
     ]
    }
   ],
   "source": [
    "model_hel = tensorflow.keras.models.load_model('final_hel_model.h5')\n",
    "model_lan = tensorflow.keras.models.load_model('lan_detect_model.h5')"
   ]
  },
  {
   "cell_type": "code",
   "execution_count": 101,
   "id": "30607fbb",
   "metadata": {},
   "outputs": [],
   "source": [
    "data = np.ndarray(shape=(1, 224, 224, 3), dtype=np.float32)"
   ]
  },
  {
   "cell_type": "code",
   "execution_count": 102,
   "id": "4c4397f6",
   "metadata": {},
   "outputs": [],
   "source": [
    "import cv2"
   ]
  },
  {
   "cell_type": "code",
   "execution_count": 136,
   "id": "a95cf21c",
   "metadata": {},
   "outputs": [],
   "source": [
    "image = cv2.imread('6.jpg')"
   ]
  },
  {
   "cell_type": "code",
   "execution_count": 137,
   "id": "dd56d28a",
   "metadata": {},
   "outputs": [
    {
     "data": {
      "text/plain": [
       "True"
      ]
     },
     "execution_count": 137,
     "metadata": {},
     "output_type": "execute_result"
    }
   ],
   "source": [
    "cv2.imwrite('0.jpg',image)"
   ]
  },
  {
   "cell_type": "code",
   "execution_count": 138,
   "id": "38ac754f",
   "metadata": {},
   "outputs": [],
   "source": [
    "hel_labels_dict={0:'others',1:'no',2:'yes'}\n",
    "lan_labels_dict = {0:'others',1:'on',2:'off'}"
   ]
  },
  {
   "cell_type": "code",
   "execution_count": 139,
   "id": "402b9e91",
   "metadata": {},
   "outputs": [],
   "source": [
    "# Replace this with the path to your image\n",
    "image = Image.open('0.jpg')\n"
   ]
  },
  {
   "cell_type": "code",
   "execution_count": 145,
   "id": "a7bbb519",
   "metadata": {},
   "outputs": [],
   "source": [
    "def call_model(image,model,dic):\n",
    "    hel_labels_dict = dic\n",
    "    \n",
    "    #resize the image to a 224x224 with the same strategy as in TM2:\n",
    "    #resizing the image to be at least 224x224 and then cropping from the center\n",
    "    size = (224, 224)\n",
    "    image = ImageOps.fit(image, size, Image.ANTIALIAS)\n",
    "\n",
    "    #turn the image into a numpy array\n",
    "    image_array = np.asarray(image)\n",
    "\n",
    "    # display the resized image\n",
    "#    image.show()\n",
    "\n",
    "    # Normalize the image\n",
    "    normalized_image_array = (image_array.astype(np.float32) / 127.0) - 1\n",
    "\n",
    "    # Load the image into the array\n",
    "    data[0] = normalized_image_array\n",
    "\n",
    "    # run the inference\n",
    "    result = model.predict(data)\n",
    "    print(prediction)\n",
    "    hel_label=np.argmax(result,axis=1)[0]\n",
    "    hel_prediction=hel_labels_dict[hel_label]\n",
    "    print(hel_prediction)\n",
    "    return hel_prediction"
   ]
  },
  {
   "cell_type": "code",
   "execution_count": 146,
   "id": "e3d1a2fe",
   "metadata": {},
   "outputs": [
    {
     "name": "stdout",
     "output_type": "stream",
     "text": [
      "[[0.9999397  0.00004245 0.00001789]]\n",
      "off\n"
     ]
    },
    {
     "data": {
      "text/plain": [
       "'off'"
      ]
     },
     "execution_count": 146,
     "metadata": {},
     "output_type": "execute_result"
    }
   ],
   "source": [
    "call_model(image,model_lan,lan_labels_dict)"
   ]
  },
  {
   "cell_type": "code",
   "execution_count": 147,
   "id": "8942f27d",
   "metadata": {},
   "outputs": [
    {
     "name": "stdout",
     "output_type": "stream",
     "text": [
      "[[0.9999397  0.00004245 0.00001789]]\n",
      "no\n"
     ]
    }
   ],
   "source": [
    "label = call_model(image,model_hel,hel_labels_dict)"
   ]
  },
  {
   "cell_type": "code",
   "execution_count": 148,
   "id": "6ab6a75f",
   "metadata": {},
   "outputs": [
    {
     "name": "stdout",
     "output_type": "stream",
     "text": [
      "[[0.9999397  0.00004245 0.00001789]]\n",
      "no\n",
      "mail sent\n"
     ]
    }
   ],
   "source": [
    "if call_model(image,model_hel,hel_labels_dict)=='no':\n",
    "    print('mail sent')\n",
    "else:\n",
    "    print('no_fine')"
   ]
  },
  {
   "cell_type": "code",
   "execution_count": 149,
   "id": "a287bb58",
   "metadata": {},
   "outputs": [
    {
     "name": "stdout",
     "output_type": "stream",
     "text": [
      "[[0.9999397  0.00004245 0.00001789]]\n",
      "off\n",
      "no_fine\n"
     ]
    }
   ],
   "source": [
    "if call_model(image,model_lan,lan_labels_dict)=='on':\n",
    "    print('mail sent')\n",
    "else:\n",
    "    print('no_fine')"
   ]
  },
  {
   "cell_type": "code",
   "execution_count": null,
   "id": "af3e152a",
   "metadata": {},
   "outputs": [],
   "source": []
  }
 ],
 "metadata": {
  "kernelspec": {
   "display_name": "Python 3",
   "language": "python",
   "name": "python3"
  },
  "language_info": {
   "codemirror_mode": {
    "name": "ipython",
    "version": 3
   },
   "file_extension": ".py",
   "mimetype": "text/x-python",
   "name": "python",
   "nbconvert_exporter": "python",
   "pygments_lexer": "ipython3",
   "version": "3.7.10"
  }
 },
 "nbformat": 4,
 "nbformat_minor": 5
}
